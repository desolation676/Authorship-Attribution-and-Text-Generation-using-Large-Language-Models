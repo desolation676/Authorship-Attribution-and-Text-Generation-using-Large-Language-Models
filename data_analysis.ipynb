{
 "cells": [
  {
   "cell_type": "code",
   "execution_count": null,
   "id": "initial_id",
   "metadata": {
    "collapsed": true
   },
   "outputs": [],
   "source": [
    "from pysentimiento import create_analyzer\n",
    "import warnings\n",
    "from transformers import pipeline\n",
    "import pandas as pd\n",
    "warnings.filterwarnings(\"ignore\")"
   ]
  },
  {
   "metadata": {},
   "cell_type": "code",
   "outputs": [],
   "execution_count": null,
   "source": [
    "imdb100 = pd.read_csv(\"data/imdb100.csv\")\n",
    "imdb100.groupby(\"id\").size().head(5)"
   ],
   "id": "3433db0d58670a43"
  },
  {
   "metadata": {},
   "cell_type": "code",
   "outputs": [],
   "execution_count": null,
   "source": [
    "# get all reviews 1-5\n",
    "top_auth = imdb100[(imdb100[\"id\"] >= 0) & (imdb100[\"id\"] <= 4)]\n",
    "# sort by id, ascending\n",
    "top_auth = top_auth.sort_values(by=\"id\", ascending=True)\n",
    "top_auth = top_auth[[\"title\", \"text\", \"rating\"]].reset_index(drop=True)\n",
    "top_auth.head(5)"
   ],
   "id": "51a6574e3d1dcfc4"
  },
  {
   "metadata": {},
   "cell_type": "markdown",
   "source": "# Analysis  ",
   "id": "b20a569a5ed5ecf9"
  },
  {
   "metadata": {},
   "cell_type": "markdown",
   "source": [
    "### Sentiment\n",
    "We can use the rating as well as a sentiment analysis by BERTweet and similar pre-trained transformer models to determine the sentiment of the review."
   ],
   "id": "5161047445928b82"
  },
  {
   "metadata": {},
   "cell_type": "code",
   "outputs": [],
   "execution_count": null,
   "source": [
    "sent_analyzer = create_analyzer(task=\"sentiment\", lang=\"en\")\n",
    "emt_analyzer = create_analyzer(task=\"emotion\", lang=\"en\")"
   ],
   "id": "8d02e6dbe1cf27d8"
  },
  {
   "metadata": {},
   "cell_type": "code",
   "outputs": [],
   "execution_count": null,
   "source": [
    "print(\"For the review \\n \" + top_auth[\"text\"].iloc[0] + \"\\n\")\n",
    "print(\"The sentiment model predicted: \" + str(sent_analyzer.predict(top_auth[\"text\"].iloc[0])))\n",
    "print(\"The rating was: \" + str(top_auth[\"rating\"].iloc[0]) + \" out of 10.0\")\n",
    "print(\"The emotion model predicted: \" + str(emt_analyzer.predict(top_auth[\"text\"].iloc[0])))"
   ],
   "id": "5f19c9e89a89797f"
  },
  {
   "metadata": {},
   "cell_type": "code",
   "outputs": [],
   "execution_count": null,
   "source": [
    "print(\"For the review \\n \" + top_auth[\"text\"].iloc[2] + \"\\n\")\n",
    "print(\"The sentiment model predicted: \" + str(sent_analyzer.predict(top_auth[\"text\"].iloc[2])))\n",
    "print(\"The rating was: \" + str(top_auth[\"rating\"].iloc[2]) + \" out of 10.0\")\n",
    "print(\"The emotion model predicted: \" + str(emt_analyzer.predict(top_auth[\"text\"].iloc[2])))"
   ],
   "id": "98ed2538d51b473c"
  },
  {
   "metadata": {},
   "cell_type": "code",
   "outputs": [],
   "execution_count": null,
   "source": [
    "def get_output(pred):\n",
    "    return pred.output"
   ],
   "id": "ddd52a22378fbefc"
  },
  {
   "metadata": {},
   "cell_type": "code",
   "outputs": [],
   "execution_count": null,
   "source": "top_auth['sentiment'] = top_auth['text'].apply(sent_analyzer.predict).apply(get_output)",
   "id": "91d02e276867f061"
  },
  {
   "metadata": {},
   "cell_type": "code",
   "outputs": [],
   "execution_count": null,
   "source": "top_auth['emotion'] = top_auth['text'].apply(emt_analyzer.predict).apply(get_output)",
   "id": "b6bb6eae3227420f"
  },
  {
   "metadata": {},
   "cell_type": "code",
   "outputs": [],
   "execution_count": null,
   "source": "top_auth.head(5)",
   "id": "4c16a44f263e9970"
  },
  {
   "metadata": {},
   "cell_type": "markdown",
   "source": [
    "### Content\n",
    "Here we perform named entity recognition, to identify important entities in the original review which we can pass on."
   ],
   "id": "6146200c64763ef2"
  },
  {
   "metadata": {},
   "cell_type": "code",
   "outputs": [],
   "execution_count": null,
   "source": "ner_analyzer = create_analyzer(\"ner\", lang=\"en\")",
   "id": "193859ffabd288f2"
  },
  {
   "metadata": {},
   "cell_type": "code",
   "outputs": [],
   "execution_count": null,
   "source": "top_auth_sent = top_auth.copy()",
   "id": "6c5244da6d1fdff3"
  },
  {
   "metadata": {},
   "cell_type": "code",
   "outputs": [],
   "execution_count": null,
   "source": [
    "print(\"For the review \\n \" + top_auth_sent[\"text\"].iloc[3] + \"\\n\")\n",
    "print(\"The NER model predicted: \" + str(ner_analyzer.predict(top_auth_sent[\"text\"].iloc[3]).entities))"
   ],
   "id": "a9a1e5e9784565e8"
  },
  {
   "metadata": {},
   "cell_type": "code",
   "outputs": [],
   "execution_count": null,
   "source": [
    "top_auth_sent['NER'] = top_auth_sent['text'].apply(ner_analyzer.predict)\n",
    "top_auth_sent.head(5)"
   ],
   "id": "79f1453715c41181"
  },
  {
   "metadata": {},
   "cell_type": "markdown",
   "source": "### Abstractive Text Summarization (ATS)",
   "id": "5380a7421d553940"
  },
  {
   "metadata": {},
   "cell_type": "code",
   "outputs": [],
   "execution_count": null,
   "source": "summarizer = pipeline(\"summarization\", model=\"google/flan-t5-base\")",
   "id": "f8db385eebe9f417"
  },
  {
   "metadata": {},
   "cell_type": "code",
   "outputs": [],
   "execution_count": null,
   "source": [
    "def summarize_text(text):\n",
    "    return summarizer(text, max_length=100, min_length=30, do_sample=False)\n",
    "\n",
    "def get_summary(text):\n",
    "    return text[0][\"summary_text\"]"
   ],
   "id": "b38c3ad33ae3ff1f"
  },
  {
   "metadata": {},
   "cell_type": "code",
   "outputs": [],
   "execution_count": null,
   "source": [
    "test_samples = top_auth_sent.head(5)\n",
    "test_samples['summary'] = test_samples['text'].apply(summarize_text).apply(get_summary)"
   ],
   "id": "31d3923a38351e51"
  },
  {
   "metadata": {},
   "cell_type": "code",
   "outputs": [],
   "execution_count": null,
   "source": "print(test_samples['text'].iloc[4])",
   "id": "b30a441d7224c5f3"
  },
  {
   "metadata": {},
   "cell_type": "code",
   "outputs": [],
   "execution_count": null,
   "source": "print(test_samples['summary'].iloc[4])",
   "id": "352b17a877d6c76c"
  },
  {
   "metadata": {},
   "cell_type": "code",
   "outputs": [],
   "execution_count": null,
   "source": "top_auth_sent['summary'] = top_auth_sent['text'].apply(summarize_text).apply(get_summary)",
   "id": "3af927f357226c86"
  },
  {
   "metadata": {},
   "cell_type": "markdown",
   "source": [
    "### Stylometric\n",
    "Here we want to collect information about the length of each review. To copy the original author as close as possible.\n"
   ],
   "id": "83000611cf1b83c4"
  },
  {
   "metadata": {},
   "cell_type": "code",
   "outputs": [],
   "execution_count": null,
   "source": [
    "def get_length(text:str):\n",
    "    return len(text.split())\n",
    "\n",
    "top_auth_cont = top_auth_sent.copy()\n",
    "\n",
    "top_auth_cont['length'] = top_auth_sent['text'].apply(get_length)\n",
    "print(top_auth_cont.head(5))"
   ],
   "id": "84cf618037236600"
  },
  {
   "metadata": {},
   "cell_type": "code",
   "outputs": [],
   "execution_count": null,
   "source": "top_auth_cont.to_pickle('data/top_auth_final.pkl')",
   "id": "e6f6a81f0510dc9"
  }
 ],
 "metadata": {
  "kernelspec": {
   "display_name": "Python 3",
   "language": "python",
   "name": "python3"
  },
  "language_info": {
   "codemirror_mode": {
    "name": "ipython",
    "version": 2
   },
   "file_extension": ".py",
   "mimetype": "text/x-python",
   "name": "python",
   "nbconvert_exporter": "python",
   "pygments_lexer": "ipython2",
   "version": "2.7.6"
  }
 },
 "nbformat": 4,
 "nbformat_minor": 5
}
